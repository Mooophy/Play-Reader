{
 "cells": [
  {
   "cell_type": "markdown",
   "metadata": {},
   "source": [
    "### The point of this part is to get the popularity of roles in each play, I will be using web-scraping to scrap the number of result google can give when we search a certain role in the play, I will rank the top 20 popular characters in a barh graph and compare it with the graph we got from previous sections."
   ]
  },
  {
   "cell_type": "code",
   "execution_count": 3,
   "metadata": {},
   "outputs": [
    {
     "data": {
      "text/html": [
       "<style>.container { width:100% !important; }</style>"
      ],
      "text/plain": [
       "<IPython.core.display.HTML object>"
      ]
     },
     "metadata": {},
     "output_type": "display_data"
    }
   ],
   "source": [
    "from IPython.core.display import display, HTML\n",
    "display(HTML(\"<style>.container { width:100% !important; }</style>\"))"
   ]
  },
  {
   "cell_type": "code",
   "execution_count": 4,
   "metadata": {},
   "outputs": [],
   "source": [
    "import pandas as pd\n",
    "import requests\n",
    "from bs4 import BeautifulSoup\n",
    "import pprint as pp\n",
    "import time\n",
    "import matplotlib.pyplot as plt\n",
    "\n",
    "%matplotlib inline"
   ]
  },
  {
   "cell_type": "code",
   "execution_count": 5,
   "metadata": {},
   "outputs": [
    {
     "data": {
      "text/html": [
       "<div>\n",
       "<style scoped>\n",
       "    .dataframe tbody tr th:only-of-type {\n",
       "        vertical-align: middle;\n",
       "    }\n",
       "\n",
       "    .dataframe tbody tr th {\n",
       "        vertical-align: top;\n",
       "    }\n",
       "\n",
       "    .dataframe thead th {\n",
       "        text-align: right;\n",
       "    }\n",
       "</style>\n",
       "<table border=\"1\" class=\"dataframe\">\n",
       "  <thead>\n",
       "    <tr style=\"text-align: right;\">\n",
       "      <th></th>\n",
       "      <th>Play</th>\n",
       "      <th>Player</th>\n",
       "    </tr>\n",
       "  </thead>\n",
       "  <tbody>\n",
       "    <tr>\n",
       "      <th>0</th>\n",
       "      <td>Henry IV</td>\n",
       "      <td>KING HENRY IV</td>\n",
       "    </tr>\n",
       "    <tr>\n",
       "      <th>1</th>\n",
       "      <td>Henry IV</td>\n",
       "      <td>WESTMORELAND</td>\n",
       "    </tr>\n",
       "    <tr>\n",
       "      <th>2</th>\n",
       "      <td>Henry IV</td>\n",
       "      <td>FALSTAFF</td>\n",
       "    </tr>\n",
       "    <tr>\n",
       "      <th>3</th>\n",
       "      <td>Henry IV</td>\n",
       "      <td>PRINCE HENRY</td>\n",
       "    </tr>\n",
       "    <tr>\n",
       "      <th>4</th>\n",
       "      <td>Henry IV</td>\n",
       "      <td>POINS</td>\n",
       "    </tr>\n",
       "  </tbody>\n",
       "</table>\n",
       "</div>"
      ],
      "text/plain": [
       "       Play         Player\n",
       "0  Henry IV  KING HENRY IV\n",
       "1  Henry IV   WESTMORELAND\n",
       "2  Henry IV       FALSTAFF\n",
       "3  Henry IV   PRINCE HENRY\n",
       "4  Henry IV          POINS"
      ]
     },
     "execution_count": 5,
     "metadata": {},
     "output_type": "execute_result"
    }
   ],
   "source": [
    "#Import dataframe\n",
    "df = pd.read_csv(\"data/37_plays_Google Result.csv\")\n",
    "df = df[['Play','Player']].dropna()\n",
    "df = df.drop_duplicates()\n",
    "df.reset_index(drop=True, inplace=True)\n",
    "df.head()"
   ]
  },
  {
   "cell_type": "code",
   "execution_count": 6,
   "metadata": {},
   "outputs": [],
   "source": [
    "#update dataframe\n",
    "df = df.replace('A Winters Tale', 'A Winter\\'s Tale')"
   ]
  },
  {
   "cell_type": "code",
   "execution_count": 7,
   "metadata": {},
   "outputs": [],
   "source": [
    "#Combine roles and Plays and put them into a list of urls\n",
    "URL = []\n",
    "for i, j in zip(df.Play, df.Player):\n",
    "    url = 'https://www.google.com/search?hl=en&q=' + i + '+'+ j\n",
    "    URL.append(url)\n",
    "df['URL'] = URL"
   ]
  },
  {
   "cell_type": "code",
   "execution_count": 8,
   "metadata": {},
   "outputs": [
    {
     "data": {
      "text/html": [
       "<div>\n",
       "<style scoped>\n",
       "    .dataframe tbody tr th:only-of-type {\n",
       "        vertical-align: middle;\n",
       "    }\n",
       "\n",
       "    .dataframe tbody tr th {\n",
       "        vertical-align: top;\n",
       "    }\n",
       "\n",
       "    .dataframe thead th {\n",
       "        text-align: right;\n",
       "    }\n",
       "</style>\n",
       "<table border=\"1\" class=\"dataframe\">\n",
       "  <thead>\n",
       "    <tr style=\"text-align: right;\">\n",
       "      <th></th>\n",
       "      <th>Play</th>\n",
       "      <th>Player</th>\n",
       "      <th>URL</th>\n",
       "    </tr>\n",
       "  </thead>\n",
       "  <tbody>\n",
       "    <tr>\n",
       "      <th>0</th>\n",
       "      <td>Henry IV</td>\n",
       "      <td>KING HENRY IV</td>\n",
       "      <td>https://www.google.com/search?hl=en&amp;q=Henry IV...</td>\n",
       "    </tr>\n",
       "    <tr>\n",
       "      <th>1</th>\n",
       "      <td>Henry IV</td>\n",
       "      <td>WESTMORELAND</td>\n",
       "      <td>https://www.google.com/search?hl=en&amp;q=Henry IV...</td>\n",
       "    </tr>\n",
       "    <tr>\n",
       "      <th>2</th>\n",
       "      <td>Henry IV</td>\n",
       "      <td>FALSTAFF</td>\n",
       "      <td>https://www.google.com/search?hl=en&amp;q=Henry IV...</td>\n",
       "    </tr>\n",
       "    <tr>\n",
       "      <th>3</th>\n",
       "      <td>Henry IV</td>\n",
       "      <td>PRINCE HENRY</td>\n",
       "      <td>https://www.google.com/search?hl=en&amp;q=Henry IV...</td>\n",
       "    </tr>\n",
       "    <tr>\n",
       "      <th>4</th>\n",
       "      <td>Henry IV</td>\n",
       "      <td>POINS</td>\n",
       "      <td>https://www.google.com/search?hl=en&amp;q=Henry IV...</td>\n",
       "    </tr>\n",
       "  </tbody>\n",
       "</table>\n",
       "</div>"
      ],
      "text/plain": [
       "       Play         Player                                                URL\n",
       "0  Henry IV  KING HENRY IV  https://www.google.com/search?hl=en&q=Henry IV...\n",
       "1  Henry IV   WESTMORELAND  https://www.google.com/search?hl=en&q=Henry IV...\n",
       "2  Henry IV       FALSTAFF  https://www.google.com/search?hl=en&q=Henry IV...\n",
       "3  Henry IV   PRINCE HENRY  https://www.google.com/search?hl=en&q=Henry IV...\n",
       "4  Henry IV          POINS  https://www.google.com/search?hl=en&q=Henry IV..."
      ]
     },
     "execution_count": 8,
     "metadata": {},
     "output_type": "execute_result"
    }
   ],
   "source": [
    "df.head()"
   ]
  },
  {
   "cell_type": "code",
   "execution_count": null,
   "metadata": {},
   "outputs": [],
   "source": [
    "#This is the section that does web scraping, please do not run this section, this will take up one and half hour.\n",
    "resultStats = []\n",
    "user_agent = 'Mozilla/5.0 (Macintosh; Intel Mac OS X 10_9_3) AppleWebKit/537.36 (KHTML, like Gecko) Chrome/35.0.1916.47 Safari/537.36'\n",
    "headers = {'User-Agent': user_agent}\n",
    "for i in (df.URL):\n",
    "    response = requests.get(i, headers = headers)\n",
    "    scraping = BeautifulSoup(response.content, \"html\")\n",
    "    element = scraping.find(\"div\", attrs = {\"id\" : \"resultStats\"})\n",
    "    if element is None:\n",
    "        result = 0\n",
    "    else:\n",
    "        result = int(str(element.contents[0]).replace('About', '').replace(',', '').replace('results', ''))\n",
    "    resultStats.append(result)\n",
    "    time.sleep(1)"
   ]
  },
  {
   "cell_type": "code",
   "execution_count": 9,
   "metadata": {},
   "outputs": [
    {
     "ename": "NameError",
     "evalue": "name 'resultStats' is not defined",
     "output_type": "error",
     "traceback": [
      "\u001b[1;31m---------------------------------------------------------------------------\u001b[0m",
      "\u001b[1;31mNameError\u001b[0m                                 Traceback (most recent call last)",
      "\u001b[1;32m<ipython-input-9-45c843b7fdd0>\u001b[0m in \u001b[0;36m<module>\u001b[1;34m\u001b[0m\n\u001b[1;32m----> 1\u001b[1;33m \u001b[0mdf\u001b[0m\u001b[1;33m[\u001b[0m\u001b[1;34m'Resultstats'\u001b[0m\u001b[1;33m]\u001b[0m \u001b[1;33m=\u001b[0m \u001b[0mresultStats\u001b[0m\u001b[1;33m\u001b[0m\u001b[1;33m\u001b[0m\u001b[0m\n\u001b[0m",
      "\u001b[1;31mNameError\u001b[0m: name 'resultStats' is not defined"
     ]
    }
   ],
   "source": [
    "#This is the section that does web scraping, please do not run this section, this will take up one and half hour.\n",
    "df['Resultstats'] = resultStats"
   ]
  },
  {
   "cell_type": "code",
   "execution_count": 94,
   "metadata": {},
   "outputs": [
    {
     "data": {
      "text/plain": [
       "Play           object\n",
       "Player         object\n",
       "URL            object\n",
       "Resultstats     int64\n",
       "dtype: object"
      ]
     },
     "execution_count": 94,
     "metadata": {},
     "output_type": "execute_result"
    }
   ],
   "source": [
    "df.dtypes"
   ]
  },
  {
   "cell_type": "code",
   "execution_count": 11,
   "metadata": {},
   "outputs": [],
   "source": [
    "df1 = pd.read_csv(\"data/37_plays_Google Result.csv\")"
   ]
  },
  {
   "cell_type": "code",
   "execution_count": 9,
   "metadata": {},
   "outputs": [],
   "source": [
    "#delet non-name value\n",
    "filter_name = ['Servant', 'All', 'ALL', 'Captain', 'First Servant', 'Lord', 'First Gentleman', 'Second Gentleman', 'First Lord', 'Gentleman',\n",
    "           'Second Servant', 'First Lord', 'Clown', 'Second Lord', 'Boy', 'First Citizen', 'First Soldier', 'Soldier', 'Both', 'Herald', 'Second Messenger', \n",
    "           'Officer', 'Page', 'Lords', 'Second Senator', 'First Witch', 'First Merchant', 'First Conspirator', 'Mariners', 'First Page', 'Second Page',\n",
    "           'KING', 'BOTH', 'A Lord', 'Justice', 'ANOTHER'] \n",
    "df1 = df1[~df1['Player'].isin(filter_name)]"
   ]
  },
  {
   "cell_type": "code",
   "execution_count": 12,
   "metadata": {},
   "outputs": [],
   "source": [
    "#Create a list for y-axis of my upcoming brah graph\n",
    "df1['Play_and_Player'] = df1.Play + ': ' + df1.Player"
   ]
  },
  {
   "cell_type": "code",
   "execution_count": 13,
   "metadata": {},
   "outputs": [],
   "source": [
    "df2 = df1[['Play_and_Player','Resultstats']]"
   ]
  },
  {
   "cell_type": "code",
   "execution_count": 14,
   "metadata": {},
   "outputs": [
    {
     "data": {
      "text/html": [
       "<div>\n",
       "<style scoped>\n",
       "    .dataframe tbody tr th:only-of-type {\n",
       "        vertical-align: middle;\n",
       "    }\n",
       "\n",
       "    .dataframe tbody tr th {\n",
       "        vertical-align: top;\n",
       "    }\n",
       "\n",
       "    .dataframe thead th {\n",
       "        text-align: right;\n",
       "    }\n",
       "</style>\n",
       "<table border=\"1\" class=\"dataframe\">\n",
       "  <thead>\n",
       "    <tr style=\"text-align: right;\">\n",
       "      <th></th>\n",
       "      <th>Play_and_Player</th>\n",
       "      <th>Resultstats</th>\n",
       "    </tr>\n",
       "  </thead>\n",
       "  <tbody>\n",
       "    <tr>\n",
       "      <th>0</th>\n",
       "      <td>Henry IV: KING HENRY IV</td>\n",
       "      <td>74800000</td>\n",
       "    </tr>\n",
       "    <tr>\n",
       "      <th>1</th>\n",
       "      <td>Henry IV: WESTMORELAND</td>\n",
       "      <td>1240000</td>\n",
       "    </tr>\n",
       "    <tr>\n",
       "      <th>2</th>\n",
       "      <td>Henry IV: FALSTAFF</td>\n",
       "      <td>840000</td>\n",
       "    </tr>\n",
       "    <tr>\n",
       "      <th>3</th>\n",
       "      <td>Henry IV: PRINCE HENRY</td>\n",
       "      <td>30400000</td>\n",
       "    </tr>\n",
       "    <tr>\n",
       "      <th>4</th>\n",
       "      <td>Henry IV: POINS</td>\n",
       "      <td>113000</td>\n",
       "    </tr>\n",
       "  </tbody>\n",
       "</table>\n",
       "</div>"
      ],
      "text/plain": [
       "           Play_and_Player  Resultstats\n",
       "0  Henry IV: KING HENRY IV     74800000\n",
       "1   Henry IV: WESTMORELAND      1240000\n",
       "2       Henry IV: FALSTAFF       840000\n",
       "3   Henry IV: PRINCE HENRY     30400000\n",
       "4          Henry IV: POINS       113000"
      ]
     },
     "execution_count": 14,
     "metadata": {},
     "output_type": "execute_result"
    }
   ],
   "source": [
    "df2.head()"
   ]
  },
  {
   "cell_type": "code",
   "execution_count": 15,
   "metadata": {},
   "outputs": [],
   "source": [
    "df2 = df2.set_index('Play_and_Player')"
   ]
  },
  {
   "cell_type": "code",
   "execution_count": 16,
   "metadata": {},
   "outputs": [],
   "source": [
    "df2 = df2.sort_values(by ='Resultstats', ascending=False)"
   ]
  },
  {
   "cell_type": "code",
   "execution_count": 17,
   "metadata": {},
   "outputs": [],
   "source": [
    "df2 = df2.head(20).sort_values(by ='Resultstats', ascending=True)"
   ]
  },
  {
   "cell_type": "code",
   "execution_count": 18,
   "metadata": {},
   "outputs": [
    {
     "data": {
      "text/html": [
       "<div>\n",
       "<style scoped>\n",
       "    .dataframe tbody tr th:only-of-type {\n",
       "        vertical-align: middle;\n",
       "    }\n",
       "\n",
       "    .dataframe tbody tr th {\n",
       "        vertical-align: top;\n",
       "    }\n",
       "\n",
       "    .dataframe thead th {\n",
       "        text-align: right;\n",
       "    }\n",
       "</style>\n",
       "<table border=\"1\" class=\"dataframe\">\n",
       "  <thead>\n",
       "    <tr style=\"text-align: right;\">\n",
       "      <th></th>\n",
       "      <th>Resultstats</th>\n",
       "    </tr>\n",
       "    <tr>\n",
       "      <th>Play_and_Player</th>\n",
       "      <th></th>\n",
       "    </tr>\n",
       "  </thead>\n",
       "  <tbody>\n",
       "    <tr>\n",
       "      <th>Richard II: GREEN</th>\n",
       "      <td>541000000</td>\n",
       "    </tr>\n",
       "    <tr>\n",
       "      <th>As you like it: OLIVER</th>\n",
       "      <td>557000000</td>\n",
       "    </tr>\n",
       "    <tr>\n",
       "      <th>Alls well that ends well: KING</th>\n",
       "      <td>605000000</td>\n",
       "    </tr>\n",
       "    <tr>\n",
       "      <th>King John: PETER</th>\n",
       "      <td>619000000</td>\n",
       "    </tr>\n",
       "    <tr>\n",
       "      <th>Alls well that ends well: KING EDWARD IV</th>\n",
       "      <td>646000000</td>\n",
       "    </tr>\n",
       "  </tbody>\n",
       "</table>\n",
       "</div>"
      ],
      "text/plain": [
       "                                          Resultstats\n",
       "Play_and_Player                                      \n",
       "Richard II: GREEN                           541000000\n",
       "As you like it: OLIVER                      557000000\n",
       "Alls well that ends well: KING              605000000\n",
       "King John: PETER                            619000000\n",
       "Alls well that ends well: KING EDWARD IV    646000000"
      ]
     },
     "execution_count": 18,
     "metadata": {},
     "output_type": "execute_result"
    }
   ],
   "source": [
    "df2.head()"
   ]
  },
  {
   "cell_type": "code",
   "execution_count": 19,
   "metadata": {},
   "outputs": [
    {
     "data": {
      "text/plain": [
       "Text(0.5, 1.0, \"The top 20 popular roles in Shakespeare's plays (unit: billion)\")"
      ]
     },
     "execution_count": 19,
     "metadata": {},
     "output_type": "execute_result"
    },
    {
     "data": {
      "image/png": "[encoded data removed]",
      "text/plain": [
       "<Figure size 1080x720 with 1 Axes>"
      ]
     },
     "metadata": {
      "needs_background": "light"
     },
     "output_type": "display_data"
    }
   ],
   "source": [
    "#Ploting results\n",
    "df2.head(20).plot(kind = 'barh', figsize=(15, 10), fontsize = 12)\n",
    "plt.xlabel('The number of results', fontsize = 12)\n",
    "plt.ylabel('Roles and Plays', fontsize = 12)\n",
    "plt.title('The top 20 popular roles in Shakespeare\\'s plays (unit: billion)', fontsize = 12)"
   ]
  }
 ],
 "metadata": {
  "kernelspec": {
   "display_name": "Python 3",
   "language": "python",
   "name": "python3"
  },
  "language_info": {
   "codemirror_mode": {
    "name": "ipython",
    "version": 3
   },
   "file_extension": ".py",
   "mimetype": "text/x-python",
   "name": "python",
   "nbconvert_exporter": "python",
   "pygments_lexer": "ipython3",
   "version": "3.7.1"
  }
 },
 "nbformat": 4,
 "nbformat_minor": 2
}
